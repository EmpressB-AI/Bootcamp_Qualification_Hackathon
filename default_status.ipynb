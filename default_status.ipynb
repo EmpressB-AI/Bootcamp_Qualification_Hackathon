{
 "cells": [
  {
   "cell_type": "code",
   "execution_count": 1,
   "metadata": {},
   "outputs": [],
   "source": [
    "import pandas as pd\n",
    "import numpy as np\n",
    "import matplotlib.pyplot as plt\n",
    "from IPython.display import display\n",
    "import seaborn as sns\n",
    "\n",
    "%matplotlib inline\n",
    "plt.style.use('seaborn-notebook')\n",
    "plt.rcParams[\"figure.figsize\"] = (20, 3)\n",
    "pd.options.display.float_format = '{:20,.4f}'.format\n",
    "pd.set_option('display.max_columns', None)\n",
    "pd.set_option('display.max_rows', None)\n",
    "sns.set(context=\"paper\", font=\"monospace\")\n",
    "\n",
    "from sklearn.preprocessing import LabelEncoder,StandardScaler, MinMaxScaler\n",
    "from sklearn.model_selection import train_test_split\n",
    "from sklearn.metrics import accuracy_score, r2_score, mean_squared_error\n",
    "from sklearn.linear_model import LinearRegression, LogisticRegression\n",
    "import warnings\n",
    "warnings.filterwarnings('ignore')\n",
    "\n",
    "from sklearn.metrics import log_loss\n",
    "from sklearn.linear_model import LogisticRegression\n",
    "from sklearn.ensemble import RandomForestClassifier, GradientBoostingClassifier,AdaBoostRegressor\n",
    "from sklearn.tree import DecisionTreeClassifier"
   ]
  },
  {
   "cell_type": "code",
   "execution_count": 2,
   "metadata": {},
   "outputs": [],
   "source": [
    "train = pd.read_csv('train.csv')\n",
    "test = pd.read_csv('test.csv')\n",
    "sub = pd.read_csv('SampleSubmission.csv')"
   ]
  },
  {
   "cell_type": "code",
   "execution_count": 3,
   "metadata": {},
   "outputs": [],
   "source": [
    "to_drop = ['form_field3', 'form_field4', 'form_field8', 'form_field9', 'form_field8', 'form_field11', 'form_field12','form_field13', 'form_field14', 'form_field16', 'form_field17', 'form_field21', 'form_field23', 'form_field27', 'form_field30', 'form_field31', 'form_field32', 'form_field33', 'form_field35', 'form_field36', 'form_field39', 'form_field40', 'form_field41', 'form_field43', 'form_field44', 'form_field45', 'form_field46', 'form_field48', 'form_field49', 'form_field50']\n",
    "train.drop(to_drop, inplace=True, axis=1)\n",
    "test.drop(to_drop, inplace=True, axis=1)"
   ]
  },
  {
   "cell_type": "code",
   "execution_count": 4,
   "metadata": {},
   "outputs": [],
   "source": [
    "test['default_status'] = 'test'\n",
    "data = pd.concat([train, test]).reset_index(drop=True)"
   ]
  },
  {
   "cell_type": "code",
   "execution_count": 5,
   "metadata": {},
   "outputs": [
    {
     "data": {
      "text/plain": [
       "Index(['form_field1', 'form_field2', 'form_field5', 'form_field6',\n",
       "       'form_field7', 'form_field10', 'form_field15', 'form_field18',\n",
       "       'form_field19', 'form_field20', 'form_field22', 'form_field24',\n",
       "       'form_field25', 'form_field26', 'form_field28', 'form_field29',\n",
       "       'form_field34', 'form_field37', 'form_field38', 'form_field42'],\n",
       "      dtype='object')"
      ]
     },
     "execution_count": 5,
     "metadata": {},
     "output_type": "execute_result"
    }
   ],
   "source": [
    "missing_col = data.columns[data.isna().any()]\n",
    "missing_col"
   ]
  },
  {
   "cell_type": "code",
   "execution_count": 6,
   "metadata": {},
   "outputs": [],
   "source": [
    "for col in missing_col:\n",
    "    \n",
    "    data[col].fillna(data[col].median(), inplace = True)"
   ]
  },
  {
   "cell_type": "code",
   "execution_count": 7,
   "metadata": {},
   "outputs": [
    {
     "data": {
      "text/plain": [
       "Applicant_ID      0\n",
       "form_field1       0\n",
       "form_field2       0\n",
       "form_field5       0\n",
       "form_field6       0\n",
       "form_field7       0\n",
       "form_field10      0\n",
       "form_field15      0\n",
       "form_field18      0\n",
       "form_field19      0\n",
       "form_field20      0\n",
       "form_field22      0\n",
       "form_field24      0\n",
       "form_field25      0\n",
       "form_field26      0\n",
       "form_field28      0\n",
       "form_field29      0\n",
       "form_field34      0\n",
       "form_field37      0\n",
       "form_field38      0\n",
       "form_field42      0\n",
       "form_field47      0\n",
       "default_status    0\n",
       "dtype: int64"
      ]
     },
     "execution_count": 7,
     "metadata": {},
     "output_type": "execute_result"
    }
   ],
   "source": [
    "data.isnull().sum()"
   ]
  },
  {
   "cell_type": "code",
   "execution_count": 8,
   "metadata": {},
   "outputs": [
    {
     "name": "stdout",
     "output_type": "stream",
     "text": [
      "<class 'pandas.core.frame.DataFrame'>\n",
      "RangeIndex: 80000 entries, 0 to 79999\n",
      "Data columns (total 23 columns):\n",
      " #   Column          Non-Null Count  Dtype  \n",
      "---  ------          --------------  -----  \n",
      " 0   Applicant_ID    80000 non-null  object \n",
      " 1   form_field1     80000 non-null  float64\n",
      " 2   form_field2     80000 non-null  float64\n",
      " 3   form_field5     80000 non-null  float64\n",
      " 4   form_field6     80000 non-null  float64\n",
      " 5   form_field7     80000 non-null  float64\n",
      " 6   form_field10    80000 non-null  float64\n",
      " 7   form_field15    80000 non-null  float64\n",
      " 8   form_field18    80000 non-null  float64\n",
      " 9   form_field19    80000 non-null  float64\n",
      " 10  form_field20    80000 non-null  float64\n",
      " 11  form_field22    80000 non-null  float64\n",
      " 12  form_field24    80000 non-null  float64\n",
      " 13  form_field25    80000 non-null  float64\n",
      " 14  form_field26    80000 non-null  float64\n",
      " 15  form_field28    80000 non-null  float64\n",
      " 16  form_field29    80000 non-null  float64\n",
      " 17  form_field34    80000 non-null  float64\n",
      " 18  form_field37    80000 non-null  float64\n",
      " 19  form_field38    80000 non-null  float64\n",
      " 20  form_field42    80000 non-null  float64\n",
      " 21  form_field47    80000 non-null  object \n",
      " 22  default_status  80000 non-null  object \n",
      "dtypes: float64(20), object(3)\n",
      "memory usage: 14.0+ MB\n"
     ]
    }
   ],
   "source": [
    "data.info()"
   ]
  },
  {
   "cell_type": "code",
   "execution_count": 9,
   "metadata": {},
   "outputs": [],
   "source": [
    "from scipy.stats import skew,norm  # for some statistics"
   ]
  },
  {
   "cell_type": "code",
   "execution_count": 10,
   "metadata": {},
   "outputs": [
    {
     "name": "stdout",
     "output_type": "stream",
     "text": [
      "There are 19 numerical features with Skew > 0.5 :\n"
     ]
    },
    {
     "data": {
      "text/plain": [
       "form_field1                  0.1248\n",
       "form_field29                 0.9388\n",
       "form_field28                 0.9911\n",
       "form_field22                 1.1656\n",
       "form_field42                 1.2129\n",
       "form_field26                 1.6516\n",
       "form_field25                 1.8046\n",
       "form_field37                 2.1489\n",
       "form_field38                 2.7596\n",
       "form_field20                 3.1420\n",
       "form_field19                 3.2760\n",
       "form_field2                  4.5311\n",
       "form_field18                 5.1708\n",
       "form_field34                 5.9412\n",
       "form_field6                  7.4445\n",
       "form_field15                 7.9039\n",
       "form_field5                 10.1979\n",
       "form_field10                15.4462\n",
       "form_field7                 33.3057\n",
       "form_field24                41.6261\n",
       "dtype: float64"
      ]
     },
     "execution_count": 10,
     "metadata": {},
     "output_type": "execute_result"
    }
   ],
   "source": [
    "numeric = data.select_dtypes(include='number').columns\n",
    "skew_features = data[numeric].apply(lambda x: skew(x)).sort_values(ascending=True)\n",
    "\n",
    "high_skew = skew_features[skew_features > 0.5]\n",
    "skew_index = high_skew.index\n",
    "\n",
    "print(\"There are {} numerical features with Skew > 0.5 :\".format(high_skew.shape[0]))\n",
    "skewness = pd.DataFrame({'Skew' :high_skew})\n",
    "skew_features"
   ]
  },
  {
   "cell_type": "code",
   "execution_count": 11,
   "metadata": {},
   "outputs": [],
   "source": [
    "# Normalize skewed features using log transformation\n",
    "for column in skew_index:\n",
    "    data[column] = np.log1p(data[column])"
   ]
  },
  {
   "cell_type": "code",
   "execution_count": 12,
   "metadata": {},
   "outputs": [],
   "source": [
    "cat_features = data.select_dtypes(exclude=np.number).columns.drop('default_status')"
   ]
  },
  {
   "cell_type": "code",
   "execution_count": 13,
   "metadata": {},
   "outputs": [
    {
     "data": {
      "text/plain": [
       "Index(['Applicant_ID', 'form_field47'], dtype='object')"
      ]
     },
     "execution_count": 13,
     "metadata": {},
     "output_type": "execute_result"
    }
   ],
   "source": [
    "cat_features"
   ]
  },
  {
   "cell_type": "code",
   "execution_count": 14,
   "metadata": {},
   "outputs": [],
   "source": [
    "data.drop('Applicant_ID',inplace=True,axis=1)"
   ]
  },
  {
   "cell_type": "code",
   "execution_count": 15,
   "metadata": {},
   "outputs": [],
   "source": [
    "categorical_features = data.select_dtypes(exclude=np.number).columns.drop('default_status')"
   ]
  },
  {
   "cell_type": "code",
   "execution_count": 16,
   "metadata": {},
   "outputs": [],
   "source": [
    "lbl = LabelEncoder()\n",
    "data['form_field47'] = lbl.fit_transform(data['form_field47'])"
   ]
  },
  {
   "cell_type": "code",
   "execution_count": 17,
   "metadata": {},
   "outputs": [
    {
     "name": "stdout",
     "output_type": "stream",
     "text": [
      "<class 'pandas.core.frame.DataFrame'>\n",
      "RangeIndex: 80000 entries, 0 to 79999\n",
      "Data columns (total 22 columns):\n",
      " #   Column          Non-Null Count  Dtype  \n",
      "---  ------          --------------  -----  \n",
      " 0   form_field1     80000 non-null  float64\n",
      " 1   form_field2     80000 non-null  float64\n",
      " 2   form_field5     80000 non-null  float64\n",
      " 3   form_field6     80000 non-null  float64\n",
      " 4   form_field7     80000 non-null  float64\n",
      " 5   form_field10    80000 non-null  float64\n",
      " 6   form_field15    80000 non-null  float64\n",
      " 7   form_field18    80000 non-null  float64\n",
      " 8   form_field19    80000 non-null  float64\n",
      " 9   form_field20    80000 non-null  float64\n",
      " 10  form_field22    80000 non-null  float64\n",
      " 11  form_field24    80000 non-null  float64\n",
      " 12  form_field25    80000 non-null  float64\n",
      " 13  form_field26    80000 non-null  float64\n",
      " 14  form_field28    80000 non-null  float64\n",
      " 15  form_field29    80000 non-null  float64\n",
      " 16  form_field34    80000 non-null  float64\n",
      " 17  form_field37    80000 non-null  float64\n",
      " 18  form_field38    80000 non-null  float64\n",
      " 19  form_field42    80000 non-null  float64\n",
      " 20  form_field47    80000 non-null  int32  \n",
      " 21  default_status  80000 non-null  object \n",
      "dtypes: float64(20), int32(1), object(1)\n",
      "memory usage: 13.1+ MB\n"
     ]
    }
   ],
   "source": [
    "data.info()"
   ]
  },
  {
   "cell_type": "code",
   "execution_count": 18,
   "metadata": {},
   "outputs": [],
   "source": [
    "train_df = data.loc[( data['default_status'] != 'test')].reset_index(drop = True)\n",
    "test_df = data.loc[( data['default_status'] == 'test')].reset_index(drop = True)"
   ]
  },
  {
   "cell_type": "code",
   "execution_count": 19,
   "metadata": {},
   "outputs": [
    {
     "data": {
      "text/plain": [
       "((56000, 22), (24000, 22))"
      ]
     },
     "execution_count": 19,
     "metadata": {},
     "output_type": "execute_result"
    }
   ],
   "source": [
    "train_df.shape, test_df.shape"
   ]
  },
  {
   "cell_type": "code",
   "execution_count": 20,
   "metadata": {},
   "outputs": [],
   "source": [
    "X = train_df.drop('default_status', axis = 1)\n",
    "y = train_df['default_status']"
   ]
  },
  {
   "cell_type": "code",
   "execution_count": 21,
   "metadata": {},
   "outputs": [],
   "source": [
    "X_train, X_test, y_train, y_test = train_test_split(X, y, test_size=0.3,stratify = y,  random_state=42)"
   ]
  },
  {
   "cell_type": "code",
   "execution_count": 22,
   "metadata": {},
   "outputs": [],
   "source": [
    "lr = LogisticRegression()\n",
    "rf = RandomForestClassifier()\n",
    "gbm = GradientBoostingClassifier()\n",
    "decision_tree = DecisionTreeClassifier()"
   ]
  },
  {
   "cell_type": "code",
   "execution_count": 23,
   "metadata": {},
   "outputs": [
    {
     "data": {
      "text/plain": [
       "DecisionTreeClassifier(ccp_alpha=0.0, class_weight=None, criterion='gini',\n",
       "                       max_depth=None, max_features=None, max_leaf_nodes=None,\n",
       "                       min_impurity_decrease=0.0, min_impurity_split=None,\n",
       "                       min_samples_leaf=1, min_samples_split=2,\n",
       "                       min_weight_fraction_leaf=0.0, presort='deprecated',\n",
       "                       random_state=None, splitter='best')"
      ]
     },
     "execution_count": 23,
     "metadata": {},
     "output_type": "execute_result"
    }
   ],
   "source": [
    "lr.fit(X_train, y_train)\n",
    "rf.fit(X_train, y_train)\n",
    "gbm.fit(X_train, y_train)\n",
    "decision_tree.fit(X_train, y_train)"
   ]
  },
  {
   "cell_type": "code",
   "execution_count": 24,
   "metadata": {},
   "outputs": [
    {
     "name": "stdout",
     "output_type": "stream",
     "text": [
      "Logistic Regression Log loss: 0.4481360723937338\n",
      "RandomForestClassifier Log loss: 0.440614585937586\n",
      "GradientBoostingClassifier Log loss: 0.4138533870467833\n",
      "DecisionTreeClassifier Log loss: 9.295364060538446\n"
     ]
    }
   ],
   "source": [
    "print('Logistic Regression Log loss: {}'.format(log_loss(y_test, lr.predict_proba(X_test)[:,1])))\n",
    "print('RandomForestClassifier Log loss: {}'.format(log_loss(y_test, rf.predict_proba(X_test)[:,1])))\n",
    "print('GradientBoostingClassifier Log loss: {}'.format(log_loss(y_test, gbm.predict_proba(X_test)[:,1])))\n",
    "print('DecisionTreeClassifier Log loss: {}'.format(log_loss(y_test, decision_tree.predict_proba(X_test)[:,1])))"
   ]
  },
  {
   "cell_type": "code",
   "execution_count": 25,
   "metadata": {},
   "outputs": [
    {
     "data": {
      "image/png": "[encoded data removed]",
      "text/plain": [
       "<Figure size 864x432 with 1 Axes>"
      ]
     },
     "metadata": {},
     "output_type": "display_data"
    }
   ],
   "source": [
    "feature_importance_df = pd.DataFrame(gbm.feature_importances_, columns=['importance'])\n",
    "feature_importance_df['feature'] = X.columns\n",
    "\n",
    "plt.figure(figsize=(12, 6));\n",
    "sns.barplot(x=\"importance\", y=\"feature\", data=feature_importance_df.sort_values(by = ['importance'], ascending = False).head(20))\n",
    "plt.title('GradientBoostingClassifier features importance:');"
   ]
  },
  {
   "cell_type": "code",
   "execution_count": 26,
   "metadata": {},
   "outputs": [],
   "source": [
    "accuracy = gbm.score(X_test, y_test)"
   ]
  },
  {
   "cell_type": "code",
   "execution_count": 27,
   "metadata": {},
   "outputs": [
    {
     "data": {
      "text/plain": [
       "0.80875"
      ]
     },
     "execution_count": 27,
     "metadata": {},
     "output_type": "execute_result"
    }
   ],
   "source": [
    "accuracy"
   ]
  },
  {
   "cell_type": "code",
   "execution_count": 28,
   "metadata": {},
   "outputs": [],
   "source": [
    "test_x = test_df.drop('default_status', axis = 1)"
   ]
  },
  {
   "cell_type": "code",
   "execution_count": 29,
   "metadata": {},
   "outputs": [],
   "source": [
    "prediction = gbm.predict_proba(test_x)[:, 1]"
   ]
  },
  {
   "cell_type": "code",
   "execution_count": null,
   "metadata": {},
   "outputs": [],
   "source": []
  }
 ],
 "metadata": {
  "kernelspec": {
   "display_name": "Python 3",
   "language": "python",
   "name": "python3"
  },
  "language_info": {
   "codemirror_mode": {
    "name": "ipython",
    "version": 3
   },
   "file_extension": ".py",
   "mimetype": "text/x-python",
   "name": "python",
   "nbconvert_exporter": "python",
   "pygments_lexer": "ipython3",
   "version": "3.7.6"
  }
 },
 "nbformat": 4,
 "nbformat_minor": 4
}
