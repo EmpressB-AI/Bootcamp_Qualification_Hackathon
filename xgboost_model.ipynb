{
 "cells": [
  {
   "cell_type": "code",
   "execution_count": 1,
   "metadata": {},
   "outputs": [],
   "source": [
    "import pandas as pd\n",
    "import numpy as np\n",
    "import matplotlib.pyplot as plt\n",
    "import seaborn as sns\n",
    "from sklearn.preprocessing import LabelEncoder,StandardScaler, MinMaxScaler\n",
    "from sklearn.model_selection import train_test_split, cross_val_score, StratifiedKFold\n",
    "from sklearn.metrics import accuracy_score, r2_score, mean_squared_error\n",
    "from sklearn.linear_model import LinearRegression, LogisticRegression\n",
    "from catboost import CatBoostClassifier\n",
    "from sklearn.metrics import log_loss, roc_auc_score\n",
    "import xgboost as xgb\n",
    "from xgboost import XGBClassifier"
   ]
  },
  {
   "cell_type": "code",
   "execution_count": 2,
   "metadata": {},
   "outputs": [],
   "source": [
    "train = pd.read_csv('train.csv')\n",
    "test = pd.read_csv('test.csv')\n",
    "sub = pd.read_csv('SampleSubmission.csv')"
   ]
  },
  {
   "cell_type": "code",
   "execution_count": 3,
   "metadata": {},
   "outputs": [],
   "source": [
    "train.drop(['form_field40', 'form_field31','form_field41','form_field11', 'form_field45', 'form_field23'],axis=1, inplace = True)\n",
    "test.drop(['form_field40', 'form_field31','form_field41','form_field11', 'form_field45', 'form_field23'],axis=1, inplace = True)            "
   ]
  },
  {
   "cell_type": "code",
   "execution_count": 4,
   "metadata": {},
   "outputs": [],
   "source": [
    "train.fillna(-99999, inplace=True)\n",
    "test.fillna(-99999, inplace=True)"
   ]
  },
  {
   "cell_type": "code",
   "execution_count": 5,
   "metadata": {},
   "outputs": [],
   "source": [
    "from scipy.stats import skew,norm  # for some statistics"
   ]
  },
  {
   "cell_type": "code",
   "execution_count": 6,
   "metadata": {},
   "outputs": [
    {
     "name": "stdout",
     "output_type": "stream",
     "text": [
      "There are 11 numerical features with Skew > 0.5 :\n"
     ]
    },
    {
     "data": {
      "text/plain": [
       "form_field9       3.699367\n",
       "form_field8       4.273139\n",
       "form_field12      5.015246\n",
       "form_field15      5.212030\n",
       "form_field6       6.868198\n",
       "form_field48     13.222211\n",
       "form_field50     17.224354\n",
       "form_field10     18.037849\n",
       "form_field7      37.773409\n",
       "form_field13     56.209804\n",
       "form_field14    118.544302\n",
       "dtype: float64"
      ]
     },
     "execution_count": 6,
     "metadata": {},
     "output_type": "execute_result"
    }
   ],
   "source": [
    "numeric_train = train.select_dtypes(include='number').columns\n",
    "skew_features = train[numeric_train].apply(lambda x: skew(x)).sort_values(ascending=True)\n",
    "\n",
    "high_skewtrain = skew_features[skew_features > 0.5]\n",
    "skew_indextrain = high_skewtrain.index\n",
    "\n",
    "print(\"There are {} numerical features with Skew > 0.5 :\".format(high_skewtrain.shape[0]))\n",
    "skewness = pd.DataFrame({'Skew' :high_skewtrain})\n",
    "high_skewtrain"
   ]
  },
  {
   "cell_type": "code",
   "execution_count": 7,
   "metadata": {},
   "outputs": [
    {
     "name": "stderr",
     "output_type": "stream",
     "text": [
      "C:\\ProgramData\\Anaconda3\\lib\\site-packages\\pandas\\core\\series.py:679: RuntimeWarning: invalid value encountered in log1p\n",
      "  result = getattr(ufunc, method)(*inputs, **kwargs)\n"
     ]
    }
   ],
   "source": [
    "# Normalize skewed features using log transformation\n",
    "for column in skew_indextrain:\n",
    "    train[column] = np.log1p(train[column])"
   ]
  },
  {
   "cell_type": "code",
   "execution_count": 8,
   "metadata": {},
   "outputs": [
    {
     "name": "stdout",
     "output_type": "stream",
     "text": [
      "There are 12 numerical features with Skew > 0.5 :\n"
     ]
    },
    {
     "data": {
      "text/plain": [
       "form_field19     3.148678\n",
       "form_field8      4.348827\n",
       "form_field15     6.652310\n",
       "form_field12     7.572344\n",
       "form_field10     7.727398\n",
       "form_field6      8.017278\n",
       "form_field7     13.474686\n",
       "form_field9     14.770864\n",
       "form_field50    17.377388\n",
       "form_field13    27.749131\n",
       "form_field48    29.693249\n",
       "form_field14    87.264067\n",
       "dtype: float64"
      ]
     },
     "execution_count": 8,
     "metadata": {},
     "output_type": "execute_result"
    }
   ],
   "source": [
    "numeric_test = test.select_dtypes(include='number').columns\n",
    "skew_features = test[numeric_test].apply(lambda x: skew(x)).sort_values(ascending=True)\n",
    "\n",
    "high_skewtest = skew_features[skew_features > 0.5]\n",
    "skew_indextest = high_skewtest.index\n",
    "\n",
    "print(\"There are {} numerical features with Skew > 0.5 :\".format(high_skewtest.shape[0]))\n",
    "skewness = pd.DataFrame({'Skew' :high_skewtest})\n",
    "high_skewtest"
   ]
  },
  {
   "cell_type": "code",
   "execution_count": 9,
   "metadata": {},
   "outputs": [],
   "source": [
    "# Normalize skewed features using log transformation\n",
    "for column in skew_indextest:\n",
    "    test[column] = np.log1p(test[column])"
   ]
  },
  {
   "cell_type": "code",
   "execution_count": 10,
   "metadata": {},
   "outputs": [],
   "source": [
    "train.drop(['Applicant_ID'], inplace=True, axis=1)\n",
    "test.drop(['Applicant_ID'], inplace=True, axis=1)"
   ]
  },
  {
   "cell_type": "code",
   "execution_count": 11,
   "metadata": {},
   "outputs": [],
   "source": [
    "sc = StandardScaler()\n",
    "for i in numeric_train:\n",
    "    if i not in skew_indextrain:\n",
    "        sc.fit_transform(train[[i]])"
   ]
  },
  {
   "cell_type": "code",
   "execution_count": 12,
   "metadata": {},
   "outputs": [],
   "source": [
    "product = {'charge':1, 'lending':0}\n",
    "default = {'yes':1, 'no':0}\n",
    "train['default_status'].replace(default, inplace=True)\n",
    "train['form_field47'].replace(product, inplace=True)"
   ]
  },
  {
   "cell_type": "code",
   "execution_count": 13,
   "metadata": {},
   "outputs": [],
   "source": [
    "sc = StandardScaler()\n",
    "for i in numeric_test:\n",
    "    if i not in skew_indextest:\n",
    "        sc.fit_transform(test[[i]])"
   ]
  },
  {
   "cell_type": "code",
   "execution_count": 14,
   "metadata": {},
   "outputs": [],
   "source": [
    "test = test.replace('NaN', -9999)"
   ]
  },
  {
   "cell_type": "code",
   "execution_count": 15,
   "metadata": {},
   "outputs": [],
   "source": [
    "test['form_field47'].replace(product, inplace=True)"
   ]
  },
  {
   "cell_type": "code",
   "execution_count": 16,
   "metadata": {},
   "outputs": [],
   "source": [
    "features = train.select_dtypes(exclude=object).columns.drop(['default_status'])\n",
    "for col in features:\n",
    "    train[col].fillna(-999, inplace = True)\n",
    "    test[col].fillna(-999, inplace = True)"
   ]
  },
  {
   "cell_type": "code",
   "execution_count": 17,
   "metadata": {},
   "outputs": [],
   "source": [
    "X = train[features]\n",
    "y = train['default_status']"
   ]
  },
  {
   "cell_type": "code",
   "execution_count": 18,
   "metadata": {},
   "outputs": [],
   "source": [
    "def metric(y, pred):\n",
    "    return roc_auc_score(y, pred, labels=[0,1]) "
   ]
  },
  {
   "cell_type": "code",
   "execution_count": 19,
   "metadata": {},
   "outputs": [],
   "source": [
    "n_skf = 5\n",
    "kf = StratifiedKFold(n_skf)\n",
    "seed = 2020\n",
    "params = {'n_estimators':4000, 'learning_rate':0.01, \n",
    "          'max_depth':3, 'subsample':0.8, 'gamma':1, 'colsample_bytree':1}"
   ]
  },
  {
   "cell_type": "code",
   "execution_count": 20,
   "metadata": {},
   "outputs": [
    {
     "name": "stdout",
     "output_type": "stream",
     "text": [
      "[0]\tvalidation_0-error:0.22089\n",
      "[100]\tvalidation_0-error:0.20973\n",
      "[200]\tvalidation_0-error:0.20607\n",
      "[300]\tvalidation_0-error:0.20250\n",
      "[400]\tvalidation_0-error:0.19875\n",
      "[500]\tvalidation_0-error:0.19732\n",
      "[600]\tvalidation_0-error:0.19687\n",
      "[700]\tvalidation_0-error:0.19634\n",
      "[800]\tvalidation_0-error:0.19536\n",
      "[900]\tvalidation_0-error:0.19518\n",
      "[1000]\tvalidation_0-error:0.19509\n",
      "[1100]\tvalidation_0-error:0.19473\n",
      "[1200]\tvalidation_0-error:0.19375\n",
      "[1300]\tvalidation_0-error:0.19411\n",
      "[1400]\tvalidation_0-error:0.19375\n",
      "[1500]\tvalidation_0-error:0.19348\n",
      "[1600]\tvalidation_0-error:0.19268\n",
      "[1700]\tvalidation_0-error:0.19187\n",
      "[1800]\tvalidation_0-error:0.19143\n",
      "[1900]\tvalidation_0-error:0.19107\n",
      "[2000]\tvalidation_0-error:0.19071\n",
      "[2100]\tvalidation_0-error:0.19054\n",
      "[2200]\tvalidation_0-error:0.19054\n",
      "[2300]\tvalidation_0-error:0.19018\n",
      "[2400]\tvalidation_0-error:0.19036\n",
      "[2500]\tvalidation_0-error:0.19045\n",
      "[2600]\tvalidation_0-error:0.19107\n",
      "[2700]\tvalidation_0-error:0.19134\n",
      "[2800]\tvalidation_0-error:0.19062\n",
      "[2900]\tvalidation_0-error:0.19071\n",
      "[3000]\tvalidation_0-error:0.19071\n",
      "[3100]\tvalidation_0-error:0.19045\n",
      "[3200]\tvalidation_0-error:0.19018\n",
      "[3300]\tvalidation_0-error:0.19062\n",
      "[3400]\tvalidation_0-error:0.19036\n",
      "[3500]\tvalidation_0-error:0.19062\n",
      "[3600]\tvalidation_0-error:0.19045\n",
      "[3700]\tvalidation_0-error:0.19018\n",
      "[3800]\tvalidation_0-error:0.19009\n",
      "[3900]\tvalidation_0-error:0.19018\n",
      "[3999]\tvalidation_0-error:0.18929\n",
      "Fold 0 : 0.8370415911576183\n",
      "[0]\tvalidation_0-error:0.22393\n",
      "[100]\tvalidation_0-error:0.21232\n",
      "[200]\tvalidation_0-error:0.20821\n",
      "[300]\tvalidation_0-error:0.20330\n",
      "[400]\tvalidation_0-error:0.19857\n",
      "[500]\tvalidation_0-error:0.19732\n",
      "[600]\tvalidation_0-error:0.19643\n",
      "[700]\tvalidation_0-error:0.19625\n",
      "[800]\tvalidation_0-error:0.19509\n",
      "[900]\tvalidation_0-error:0.19473\n",
      "[1000]\tvalidation_0-error:0.19402\n",
      "[1100]\tvalidation_0-error:0.19286\n",
      "[1200]\tvalidation_0-error:0.19304\n",
      "[1300]\tvalidation_0-error:0.19232\n",
      "[1400]\tvalidation_0-error:0.19232\n",
      "[1500]\tvalidation_0-error:0.19232\n",
      "[1600]\tvalidation_0-error:0.19170\n",
      "[1700]\tvalidation_0-error:0.19205\n",
      "[1800]\tvalidation_0-error:0.19196\n",
      "[1900]\tvalidation_0-error:0.19152\n",
      "[2000]\tvalidation_0-error:0.19116\n",
      "[2100]\tvalidation_0-error:0.19152\n",
      "[2200]\tvalidation_0-error:0.19179\n",
      "[2300]\tvalidation_0-error:0.19223\n",
      "[2400]\tvalidation_0-error:0.19205\n",
      "[2500]\tvalidation_0-error:0.19259\n",
      "[2600]\tvalidation_0-error:0.19205\n",
      "[2700]\tvalidation_0-error:0.19143\n",
      "[2800]\tvalidation_0-error:0.19170\n",
      "[2900]\tvalidation_0-error:0.19170\n",
      "[3000]\tvalidation_0-error:0.19152\n",
      "[3100]\tvalidation_0-error:0.19152\n",
      "[3200]\tvalidation_0-error:0.19179\n",
      "[3300]\tvalidation_0-error:0.19143\n",
      "[3400]\tvalidation_0-error:0.19134\n",
      "[3500]\tvalidation_0-error:0.19179\n",
      "[3600]\tvalidation_0-error:0.19152\n",
      "[3700]\tvalidation_0-error:0.19179\n",
      "[3800]\tvalidation_0-error:0.19214\n",
      "[3900]\tvalidation_0-error:0.19241\n",
      "[3999]\tvalidation_0-error:0.19179\n",
      "Fold 1 : 0.8358854346305781\n",
      "[0]\tvalidation_0-error:0.22420\n",
      "[100]\tvalidation_0-error:0.20911\n",
      "[200]\tvalidation_0-error:0.20420\n",
      "[300]\tvalidation_0-error:0.19920\n",
      "[400]\tvalidation_0-error:0.19670\n",
      "[500]\tvalidation_0-error:0.19661\n",
      "[600]\tvalidation_0-error:0.19607\n",
      "[700]\tvalidation_0-error:0.19527\n",
      "[800]\tvalidation_0-error:0.19348\n",
      "[900]\tvalidation_0-error:0.19304\n",
      "[1000]\tvalidation_0-error:0.19107\n",
      "[1100]\tvalidation_0-error:0.19125\n",
      "[1200]\tvalidation_0-error:0.19116\n",
      "[1300]\tvalidation_0-error:0.19036\n",
      "[1400]\tvalidation_0-error:0.19018\n",
      "[1500]\tvalidation_0-error:0.18964\n",
      "[1600]\tvalidation_0-error:0.19018\n",
      "[1700]\tvalidation_0-error:0.19009\n",
      "[1800]\tvalidation_0-error:0.18982\n",
      "[1900]\tvalidation_0-error:0.18982\n",
      "[2000]\tvalidation_0-error:0.18929\n",
      "[2100]\tvalidation_0-error:0.18929\n",
      "[2200]\tvalidation_0-error:0.18893\n",
      "[2300]\tvalidation_0-error:0.18866\n",
      "[2400]\tvalidation_0-error:0.18830\n",
      "[2500]\tvalidation_0-error:0.18875\n",
      "[2600]\tvalidation_0-error:0.18911\n",
      "[2700]\tvalidation_0-error:0.18866\n",
      "[2800]\tvalidation_0-error:0.18830\n",
      "[2900]\tvalidation_0-error:0.18893\n",
      "[3000]\tvalidation_0-error:0.18875\n",
      "[3100]\tvalidation_0-error:0.18911\n",
      "[3200]\tvalidation_0-error:0.18893\n",
      "[3300]\tvalidation_0-error:0.18893\n",
      "[3400]\tvalidation_0-error:0.18929\n",
      "[3500]\tvalidation_0-error:0.18955\n",
      "[3600]\tvalidation_0-error:0.18902\n",
      "[3700]\tvalidation_0-error:0.18929\n",
      "[3800]\tvalidation_0-error:0.18955\n",
      "[3900]\tvalidation_0-error:0.18937\n",
      "[3999]\tvalidation_0-error:0.18955\n",
      "Fold 2 : 0.8413477784788574\n",
      "[0]\tvalidation_0-error:0.22759\n",
      "[100]\tvalidation_0-error:0.21152\n",
      "[200]\tvalidation_0-error:0.20741\n",
      "[300]\tvalidation_0-error:0.20455\n",
      "[400]\tvalidation_0-error:0.20393\n",
      "[500]\tvalidation_0-error:0.20232\n",
      "[600]\tvalidation_0-error:0.20134\n",
      "[700]\tvalidation_0-error:0.19920\n",
      "[800]\tvalidation_0-error:0.19946\n",
      "[900]\tvalidation_0-error:0.19902\n",
      "[1000]\tvalidation_0-error:0.19786\n",
      "[1100]\tvalidation_0-error:0.19821\n",
      "[1200]\tvalidation_0-error:0.19830\n",
      "[1300]\tvalidation_0-error:0.19768\n",
      "[1400]\tvalidation_0-error:0.19750\n",
      "[1500]\tvalidation_0-error:0.19768\n",
      "[1600]\tvalidation_0-error:0.19812\n",
      "[1700]\tvalidation_0-error:0.19777\n",
      "[1800]\tvalidation_0-error:0.19759\n",
      "[1900]\tvalidation_0-error:0.19759\n",
      "[2000]\tvalidation_0-error:0.19732\n",
      "[2100]\tvalidation_0-error:0.19705\n",
      "[2200]\tvalidation_0-error:0.19652\n",
      "[2300]\tvalidation_0-error:0.19679\n",
      "[2400]\tvalidation_0-error:0.19670\n",
      "[2500]\tvalidation_0-error:0.19643\n",
      "[2600]\tvalidation_0-error:0.19679\n",
      "[2700]\tvalidation_0-error:0.19670\n",
      "[2800]\tvalidation_0-error:0.19670\n",
      "[2900]\tvalidation_0-error:0.19634\n",
      "[3000]\tvalidation_0-error:0.19652\n",
      "[3100]\tvalidation_0-error:0.19616\n",
      "[3200]\tvalidation_0-error:0.19580\n",
      "[3300]\tvalidation_0-error:0.19545\n",
      "[3400]\tvalidation_0-error:0.19652\n",
      "[3500]\tvalidation_0-error:0.19661\n",
      "[3600]\tvalidation_0-error:0.19679\n",
      "[3700]\tvalidation_0-error:0.19750\n",
      "[3800]\tvalidation_0-error:0.19687\n",
      "[3900]\tvalidation_0-error:0.19696\n",
      "[3999]\tvalidation_0-error:0.19616\n",
      "Fold 3 : 0.8309300624018457\n",
      "[0]\tvalidation_0-error:0.21973\n",
      "[100]\tvalidation_0-error:0.20741\n",
      "[200]\tvalidation_0-error:0.20500\n",
      "[300]\tvalidation_0-error:0.20098\n",
      "[400]\tvalidation_0-error:0.19670\n",
      "[500]\tvalidation_0-error:0.19366\n",
      "[600]\tvalidation_0-error:0.19268\n",
      "[700]\tvalidation_0-error:0.19054\n",
      "[800]\tvalidation_0-error:0.19000\n",
      "[900]\tvalidation_0-error:0.18964\n",
      "[1000]\tvalidation_0-error:0.18902\n",
      "[1100]\tvalidation_0-error:0.18920\n",
      "[1200]\tvalidation_0-error:0.18884\n",
      "[1300]\tvalidation_0-error:0.18902\n",
      "[1400]\tvalidation_0-error:0.18848\n",
      "[1500]\tvalidation_0-error:0.18795\n",
      "[1600]\tvalidation_0-error:0.18732\n",
      "[1700]\tvalidation_0-error:0.18741\n",
      "[1800]\tvalidation_0-error:0.18661\n",
      "[1900]\tvalidation_0-error:0.18670\n",
      "[2000]\tvalidation_0-error:0.18679\n",
      "[2100]\tvalidation_0-error:0.18688\n",
      "[2200]\tvalidation_0-error:0.18688\n",
      "[2300]\tvalidation_0-error:0.18688\n",
      "[2400]\tvalidation_0-error:0.18679\n",
      "[2500]\tvalidation_0-error:0.18670\n",
      "[2600]\tvalidation_0-error:0.18616\n",
      "[2700]\tvalidation_0-error:0.18607\n",
      "[2800]\tvalidation_0-error:0.18607\n",
      "[2900]\tvalidation_0-error:0.18661\n",
      "[3000]\tvalidation_0-error:0.18652\n",
      "[3100]\tvalidation_0-error:0.18616\n",
      "[3200]\tvalidation_0-error:0.18598\n",
      "[3300]\tvalidation_0-error:0.18598\n",
      "[3400]\tvalidation_0-error:0.18670\n",
      "[3500]\tvalidation_0-error:0.18670\n",
      "[3600]\tvalidation_0-error:0.18723\n",
      "[3700]\tvalidation_0-error:0.18705\n",
      "[3800]\tvalidation_0-error:0.18670\n",
      "[3900]\tvalidation_0-error:0.18679\n",
      "[3999]\tvalidation_0-error:0.18670\n",
      "Fold 4 : 0.8475139035150736\n",
      "\n",
      "\n",
      "Avg log : 0.8385437540367946\n"
     ]
    }
   ],
   "source": [
    "score_list = []\n",
    "score=0\n",
    "test_oofs = []\n",
    "for i, (tr_idx, vr_idx) in enumerate(kf.split(X,y)):\n",
    "    X_train, y_train = X.loc[tr_idx, features], y.loc[tr_idx]\n",
    "    xval, yval = X.loc[vr_idx, features], y.loc[vr_idx]\n",
    "    \n",
    "    model = XGBClassifier(**params)\n",
    "    model.fit(X_train, y_train, eval_set=[(xval, yval)], verbose=100)\n",
    "    p = model.predict_proba(xval)[:, 1]\n",
    "    \n",
    "    sc = metric(yval, p)\n",
    "    score_list.append(sc)\n",
    "    score+= sc/n_skf\n",
    "    \n",
    "    pred = model.predict_proba(test[features])[:, 1]\n",
    "    test_oofs.append(pred)\n",
    "    print('Fold {} : {}'. format(i, sc))\n",
    "\n",
    "print()\n",
    "print()\n",
    "print('Avg log :', score)"
   ]
  },
  {
   "cell_type": "code",
   "execution_count": null,
   "metadata": {},
   "outputs": [],
   "source": []
  }
 ],
 "metadata": {
  "kernelspec": {
   "display_name": "Python 3",
   "language": "python",
   "name": "python3"
  },
  "language_info": {
   "codemirror_mode": {
    "name": "ipython",
    "version": 3
   },
   "file_extension": ".py",
   "mimetype": "text/x-python",
   "name": "python",
   "nbconvert_exporter": "python",
   "pygments_lexer": "ipython3",
   "version": "3.7.6"
  }
 },
 "nbformat": 4,
 "nbformat_minor": 4
}
