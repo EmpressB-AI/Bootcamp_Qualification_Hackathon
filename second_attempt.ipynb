{
 "cells": [
  {
   "cell_type": "code",
   "execution_count": 1,
   "metadata": {},
   "outputs": [],
   "source": [
    "import catboost"
   ]
  },
  {
   "cell_type": "code",
   "execution_count": 2,
   "metadata": {},
   "outputs": [],
   "source": [
    "import pandas as pd\n",
    "import numpy as np\n",
    "import matplotlib.pyplot as plt\n",
    "from IPython.display import display\n",
    "import seaborn as sns\n",
    "\n",
    "%matplotlib inline\n",
    "\n",
    "from sklearn.preprocessing import LabelEncoder,StandardScaler, MinMaxScaler\n",
    "from sklearn.model_selection import train_test_split, cross_val_score, StratifiedKFold\n",
    "from sklearn.metrics import accuracy_score, r2_score, mean_squared_error\n",
    "from sklearn.linear_model import LinearRegression, LogisticRegression\n",
    "from catboost import CatBoostClassifier\n",
    "import warnings\n",
    "warnings.filterwarnings('ignore')\n",
    "\n",
    "from sklearn.metrics import log_loss, roc_auc_score\n",
    "\n",
    "from sklearn.linear_model import LogisticRegression\n",
    "from sklearn.ensemble import RandomForestClassifier, GradientBoostingClassifier,AdaBoostRegressor\n",
    "from sklearn.tree import DecisionTreeClassifier"
   ]
  },
  {
   "cell_type": "code",
   "execution_count": 3,
   "metadata": {},
   "outputs": [],
   "source": [
    "train = pd.read_csv('train.csv')\n",
    "test = pd.read_csv('test.csv')\n",
    "sub = pd.read_csv('SampleSubmission.csv')"
   ]
  },
  {
   "cell_type": "code",
   "execution_count": 4,
   "metadata": {},
   "outputs": [],
   "source": [
    "train.drop(['form_field40', 'form_field31','form_field41','form_field11', 'form_field45'],axis=1, inplace = True)\n",
    "test.drop(['form_field40', 'form_field31','form_field41','form_field11', 'form_field45'],axis=1, inplace = True)            "
   ]
  },
  {
   "cell_type": "code",
   "execution_count": 5,
   "metadata": {},
   "outputs": [],
   "source": [
    "dict = {'charge':1, 'lending':0}\n",
    "target_map = {'yes':1, 'no':0}\n",
    "train['default_status'].replace(target_map, inplace=True)\n",
    "train['form_field47'].replace(dict, inplace=True)\n",
    "test['form_field47'].replace(dict, inplace=True)"
   ]
  },
  {
   "cell_type": "code",
   "execution_count": 6,
   "metadata": {},
   "outputs": [],
   "source": [
    "features = train.select_dtypes(exclude=object).columns.drop(['default_status'])\n",
    "for col in features:\n",
    "    train[col].fillna(-999, inplace = True)\n",
    "    test[col].fillna(-999, inplace = True)"
   ]
  },
  {
   "cell_type": "code",
   "execution_count": 7,
   "metadata": {},
   "outputs": [],
   "source": [
    "X = train[features]\n",
    "y = train['default_status']"
   ]
  },
  {
   "cell_type": "code",
   "execution_count": 8,
   "metadata": {},
   "outputs": [],
   "source": [
    "def metric(y, pred):\n",
    "    return roc_auc_score(y, pred, labels=[0,1]) "
   ]
  },
  {
   "cell_type": "code",
   "execution_count": 9,
   "metadata": {},
   "outputs": [],
   "source": [
    "n_skf = 5\n",
    "kf = StratifiedKFold(n_skf)\n",
    "seed = 2020\n",
    "params = {'n_estimators':100, 'learning_rate':0.01, \n",
    "          'objective':'CrossEntropy', 'eval_metric':'AUC', \n",
    "          'random_seed':seed, 'early_stopping_rounds':200, \n",
    "          'use_best_model':True,}"
   ]
  },
  {
   "cell_type": "code",
   "execution_count": 10,
   "metadata": {},
   "outputs": [
    {
     "name": "stdout",
     "output_type": "stream",
     "text": [
      "0:\ttest: 0.7984274\tbest: 0.7984274 (0)\ttotal: 155ms\tremaining: 15.4s\n",
      "99:\ttest: 0.8250325\tbest: 0.8250325 (99)\ttotal: 6.37s\tremaining: 0us\n",
      "\n",
      "bestTest = 0.8250324786\n",
      "bestIteration = 99\n",
      "\n",
      "Fold 0 : 0.8250324786439741\n",
      "0:\ttest: 0.7863922\tbest: 0.7863922 (0)\ttotal: 67.4ms\tremaining: 6.67s\n",
      "99:\ttest: 0.8211769\tbest: 0.8211769 (99)\ttotal: 6.17s\tremaining: 0us\n",
      "\n",
      "bestTest = 0.8211768561\n",
      "bestIteration = 99\n",
      "\n",
      "Fold 1 : 0.8211768561258903\n",
      "0:\ttest: 0.7870170\tbest: 0.7870170 (0)\ttotal: 91.6ms\tremaining: 9.07s\n",
      "99:\ttest: 0.8269265\tbest: 0.8269265 (99)\ttotal: 5.29s\tremaining: 0us\n",
      "\n",
      "bestTest = 0.8269265363\n",
      "bestIteration = 99\n",
      "\n",
      "Fold 2 : 0.8269265363399781\n",
      "0:\ttest: 0.7785155\tbest: 0.7785155 (0)\ttotal: 93.8ms\tremaining: 9.29s\n",
      "99:\ttest: 0.8151721\tbest: 0.8151721 (99)\ttotal: 5.44s\tremaining: 0us\n",
      "\n",
      "bestTest = 0.8151720628\n",
      "bestIteration = 99\n",
      "\n",
      "Fold 3 : 0.8151720627750749\n",
      "0:\ttest: 0.7894006\tbest: 0.7894006 (0)\ttotal: 101ms\tremaining: 10s\n",
      "99:\ttest: 0.8361086\tbest: 0.8361086 (99)\ttotal: 4.75s\tremaining: 0us\n",
      "\n",
      "bestTest = 0.8361085616\n",
      "bestIteration = 99\n",
      "\n",
      "Fold 4 : 0.836108561632217\n",
      "\n",
      "\n",
      "Avg log : 0.824883299103427\n"
     ]
    }
   ],
   "source": [
    "score_list = []\n",
    "score=0\n",
    "test_oofs = []\n",
    "for i, (tr_idx, vr_idx) in enumerate(kf.split(X,y)):\n",
    "    X_train, y_train = X.loc[tr_idx, features], y.loc[tr_idx]\n",
    "    xval, yval = X.loc[vr_idx, features], y.loc[vr_idx]\n",
    "    \n",
    "    model = CatBoostClassifier(**params)\n",
    "    model.fit(X_train, y_train, eval_set=[(xval, yval)], verbose=100)\n",
    "    p = model.predict_proba(xval)[:, 1]\n",
    "    \n",
    "    sc = metric(yval, p)\n",
    "    score_list.append(sc)\n",
    "    score+= sc/n_skf\n",
    "    \n",
    "    pred = model.predict_proba(test[features])[:, 1]\n",
    "    test_oofs.append(pred)\n",
    "    print('Fold {} : {}'. format(i, sc))\n",
    "\n",
    "print()\n",
    "print()\n",
    "print('Avg log :', score)"
   ]
  },
  {
   "cell_type": "code",
   "execution_count": 11,
   "metadata": {},
   "outputs": [
    {
     "data": {
      "text/plain": [
       "'5 fold CV, score: 0.824883299103427'"
      ]
     },
     "execution_count": 11,
     "metadata": {},
     "output_type": "execute_result"
    }
   ],
   "source": [
    "f'{n_skf} fold CV, score: {score}'"
   ]
  },
  {
   "cell_type": "code",
   "execution_count": 12,
   "metadata": {},
   "outputs": [],
   "source": [
    "oof_prediction = pd.DataFrame(test_oofs).T"
   ]
  },
  {
   "cell_type": "code",
   "execution_count": 13,
   "metadata": {},
   "outputs": [],
   "source": [
    "oof_prediction.columns = ['fold' +str(i) for i in range(1, n_skf + 1)]"
   ]
  },
  {
   "cell_type": "code",
   "execution_count": 14,
   "metadata": {},
   "outputs": [
    {
     "data": {
      "text/html": [
       "<div>\n",
       "<style scoped>\n",
       "    .dataframe tbody tr th:only-of-type {\n",
       "        vertical-align: middle;\n",
       "    }\n",
       "\n",
       "    .dataframe tbody tr th {\n",
       "        vertical-align: top;\n",
       "    }\n",
       "\n",
       "    .dataframe thead th {\n",
       "        text-align: right;\n",
       "    }\n",
       "</style>\n",
       "<table border=\"1\" class=\"dataframe\">\n",
       "  <thead>\n",
       "    <tr style=\"text-align: right;\">\n",
       "      <th></th>\n",
       "      <th>fold1</th>\n",
       "      <th>fold2</th>\n",
       "      <th>fold3</th>\n",
       "      <th>fold4</th>\n",
       "      <th>fold5</th>\n",
       "    </tr>\n",
       "  </thead>\n",
       "  <tbody>\n",
       "    <tr>\n",
       "      <th>0</th>\n",
       "      <td>0.458768</td>\n",
       "      <td>0.458867</td>\n",
       "      <td>0.480519</td>\n",
       "      <td>0.463238</td>\n",
       "      <td>0.459146</td>\n",
       "    </tr>\n",
       "    <tr>\n",
       "      <th>1</th>\n",
       "      <td>0.432599</td>\n",
       "      <td>0.416642</td>\n",
       "      <td>0.467195</td>\n",
       "      <td>0.425918</td>\n",
       "      <td>0.436001</td>\n",
       "    </tr>\n",
       "    <tr>\n",
       "      <th>2</th>\n",
       "      <td>0.449155</td>\n",
       "      <td>0.459404</td>\n",
       "      <td>0.459305</td>\n",
       "      <td>0.458119</td>\n",
       "      <td>0.438836</td>\n",
       "    </tr>\n",
       "    <tr>\n",
       "      <th>3</th>\n",
       "      <td>0.608059</td>\n",
       "      <td>0.602081</td>\n",
       "      <td>0.595976</td>\n",
       "      <td>0.625535</td>\n",
       "      <td>0.620018</td>\n",
       "    </tr>\n",
       "    <tr>\n",
       "      <th>4</th>\n",
       "      <td>0.283683</td>\n",
       "      <td>0.263524</td>\n",
       "      <td>0.277860</td>\n",
       "      <td>0.275748</td>\n",
       "      <td>0.267244</td>\n",
       "    </tr>\n",
       "  </tbody>\n",
       "</table>\n",
       "</div>"
      ],
      "text/plain": [
       "      fold1     fold2     fold3     fold4     fold5\n",
       "0  0.458768  0.458867  0.480519  0.463238  0.459146\n",
       "1  0.432599  0.416642  0.467195  0.425918  0.436001\n",
       "2  0.449155  0.459404  0.459305  0.458119  0.438836\n",
       "3  0.608059  0.602081  0.595976  0.625535  0.620018\n",
       "4  0.283683  0.263524  0.277860  0.275748  0.267244"
      ]
     },
     "execution_count": 14,
     "metadata": {},
     "output_type": "execute_result"
    }
   ],
   "source": [
    "oof_prediction.head()"
   ]
  },
  {
   "cell_type": "code",
   "execution_count": 15,
   "metadata": {},
   "outputs": [],
   "source": [
    "sub['default_status'] = np.mean(test_oofs, axis=0)"
   ]
  },
  {
   "cell_type": "code",
   "execution_count": 16,
   "metadata": {},
   "outputs": [],
   "source": [
    "sub.to_csv('third_submission.csv', index=False)"
   ]
  }
 ],
 "metadata": {
  "kernelspec": {
   "display_name": "Python 3",
   "language": "python",
   "name": "python3"
  },
  "language_info": {
   "codemirror_mode": {
    "name": "ipython",
    "version": 3
   },
   "file_extension": ".py",
   "mimetype": "text/x-python",
   "name": "python",
   "nbconvert_exporter": "python",
   "pygments_lexer": "ipython3",
   "version": "3.7.6"
  }
 },
 "nbformat": 4,
 "nbformat_minor": 4
}
